{
  "nbformat": 4,
  "nbformat_minor": 0,
  "metadata": {
    "colab": {
      "provenance": [],
      "include_colab_link": true
    },
    "kernelspec": {
      "name": "python3",
      "display_name": "Python 3"
    },
    "language_info": {
      "name": "python"
    }
  },
  "cells": [
    {
      "cell_type": "markdown",
      "metadata": {
        "id": "view-in-github",
        "colab_type": "text"
      },
      "source": [
        "<a href=\"https://colab.research.google.com/github/muiruridan/Monty_Hall_Problem/blob/main/Monty_Hall_Problem.ipynb\" target=\"_parent\"><img src=\"https://colab.research.google.com/assets/colab-badge.svg\" alt=\"Open In Colab\"/></a>"
      ]
    },
    {
      "cell_type": "code",
      "execution_count": null,
      "metadata": {
        "id": "TDXpOpyyK97y",
        "colab": {
          "base_uri": "https://localhost:8080/",
          "height": 140
        },
        "outputId": "0c9ab999-2d02-4298-df7f-da6fe6c0ab8b"
      },
      "outputs": [
        {
          "output_type": "execute_result",
          "data": {
            "text/plain": [
              "' The Monty Hall Problem.\\n\\nThe Monty Hall problem is a famous probability puzzle named after the host of the American television game show \"Let\\'s Make a Deal,\" Monty Hall.\\nThe problem is a classic illustration of counterintuitive probabilistic reasoning. It can be stated as follows:\\n  You are a contestant on a game show. In front of you, there are three doors: Door 1, Door 2, and Door 3.\\n  Behind one of the doors, there is a valuable prize, while the other two doors hide nothing.\\n  You start by selecting one of the three doors. After you make your choice, but before the door is opened,\\n  the host (Monty Hall) opens one of the remaining two doors that you did not select, revealing an empty space behind it.\\n  The host knows where the prize is located.\\n\\nNow, you are faced with a decision: Do you stick with your original choice, or do you switch and choose the other unopened door?\\nThe Monty Hall problem raises the question of whether it\\'s more advantageous to stick with your initial choice or to switch doors\\nto maximize your chances of winning the prize.\\n\\nThe Counterintuitive Solution:\\nThe optimal strategy is to always switch doors. This may seem counterintuitive, but it can be understood through probability analysis.\\nInitially, when you choose a door, there\\'s a 1/3 chance that the prize is behind your chosen door and a 2/3 chance\\nthat it\\'s behind one of the other two doors combined.\\nWhen the host opens a door to reveal an empty space, he essentially provides you with additional information.\\nIf you switch doors, you effectively switch your probability of winning from 1/3 to 2/3. This can be explained as follows:\\n  If you initially chose the door with the prize (1/3 chance), switching doors will result in a loss.\\n  If you initially chose a door without the prize (2/3 chance), switching doors will guarantee a win, as the host must reveal the empty door.\\n\\nIn other words, by switching doors, you are capitalizing on the higher probability (2/3) that you initially chose a door without the prize.\\n\\n'"
            ],
            "application/vnd.google.colaboratory.intrinsic+json": {
              "type": "string"
            }
          },
          "metadata": {},
          "execution_count": 3
        }
      ],
      "source": [
        "\"\"\" The Monty Hall Problem.\n",
        "\n",
        "The Monty Hall problem is a famous probability puzzle named after the host of the American television game show \"Let's Make a Deal,\" Monty Hall.\n",
        "The problem is a classic illustration of counterintuitive probabilistic reasoning. It can be stated as follows:\n",
        "  You are a contestant on a game show. In front of you, there are three doors: Door 1, Door 2, and Door 3.\n",
        "  Behind one of the doors, there is a valuable prize, while the other two doors hide nothing.\n",
        "  You start by selecting one of the three doors. After you make your choice, but before the door is opened,\n",
        "  the host (Monty Hall) opens one of the remaining two doors that you did not select, revealing an empty space behind it.\n",
        "  The host knows where the prize is located.\n",
        "\n",
        "Now, you are faced with a decision: Do you stick with your original choice, or do you switch and choose the other unopened door?\n",
        "The Monty Hall problem raises the question of whether it's more advantageous to stick with your initial choice or to switch doors\n",
        "to maximize your chances of winning the prize.\n",
        "\n",
        "The Counterintuitive Solution:\n",
        "The optimal strategy is to always switch doors. This may seem counterintuitive, but it can be understood through probability analysis.\n",
        "Initially, when you choose a door, there's a 1/3 chance that the prize is behind your chosen door and a 2/3 chance\n",
        "that it's behind one of the other two doors combined.\n",
        "When the host opens a door to reveal an empty space, he essentially provides you with additional information.\n",
        "If you switch doors, you effectively switch your probability of winning from 1/3 to 2/3. This can be explained as follows:\n",
        "  If you initially chose the door with the prize (1/3 chance), switching doors will result in a loss.\n",
        "  If you initially chose a door without the prize (2/3 chance), switching doors will guarantee a win, as the host must reveal the empty door.\n",
        "\n",
        "In other words, by switching doors, you are capitalizing on the higher probability (2/3) that you initially chose a door without the prize.\n",
        "\n",
        "\"\"\"\n"
      ]
    },
    {
      "cell_type": "code",
      "source": [
        "!pip install pgmpy\n",
        "from pgmpy.models import BayesianNetwork\n",
        "from pgmpy.factors.discrete import TabularCPD\n",
        "from pgmpy.inference import VariableElimination\n"
      ],
      "metadata": {
        "colab": {
          "base_uri": "https://localhost:8080/"
        },
        "id": "3tw9d9EIMpJG",
        "outputId": "c97d98f2-41c1-4a68-d064-b3466f5ee989"
      },
      "execution_count": null,
      "outputs": [
        {
          "output_type": "stream",
          "name": "stdout",
          "text": [
            "Requirement already satisfied: pgmpy in /usr/local/lib/python3.10/dist-packages (0.1.23)\n",
            "Requirement already satisfied: networkx in /usr/local/lib/python3.10/dist-packages (from pgmpy) (3.1)\n",
            "Requirement already satisfied: numpy in /usr/local/lib/python3.10/dist-packages (from pgmpy) (1.23.5)\n",
            "Requirement already satisfied: scipy in /usr/local/lib/python3.10/dist-packages (from pgmpy) (1.10.1)\n",
            "Requirement already satisfied: scikit-learn in /usr/local/lib/python3.10/dist-packages (from pgmpy) (1.2.2)\n",
            "Requirement already satisfied: pandas in /usr/local/lib/python3.10/dist-packages (from pgmpy) (1.5.3)\n",
            "Requirement already satisfied: pyparsing in /usr/local/lib/python3.10/dist-packages (from pgmpy) (3.1.1)\n",
            "Requirement already satisfied: torch in /usr/local/lib/python3.10/dist-packages (from pgmpy) (2.0.1+cu118)\n",
            "Requirement already satisfied: statsmodels in /usr/local/lib/python3.10/dist-packages (from pgmpy) (0.14.0)\n",
            "Requirement already satisfied: tqdm in /usr/local/lib/python3.10/dist-packages (from pgmpy) (4.66.0)\n",
            "Requirement already satisfied: joblib in /usr/local/lib/python3.10/dist-packages (from pgmpy) (1.3.2)\n",
            "Requirement already satisfied: opt-einsum in /usr/local/lib/python3.10/dist-packages (from pgmpy) (3.3.0)\n",
            "Requirement already satisfied: python-dateutil>=2.8.1 in /usr/local/lib/python3.10/dist-packages (from pandas->pgmpy) (2.8.2)\n",
            "Requirement already satisfied: pytz>=2020.1 in /usr/local/lib/python3.10/dist-packages (from pandas->pgmpy) (2023.3)\n",
            "Requirement already satisfied: threadpoolctl>=2.0.0 in /usr/local/lib/python3.10/dist-packages (from scikit-learn->pgmpy) (3.2.0)\n",
            "Requirement already satisfied: patsy>=0.5.2 in /usr/local/lib/python3.10/dist-packages (from statsmodels->pgmpy) (0.5.3)\n",
            "Requirement already satisfied: packaging>=21.3 in /usr/local/lib/python3.10/dist-packages (from statsmodels->pgmpy) (23.1)\n",
            "Requirement already satisfied: filelock in /usr/local/lib/python3.10/dist-packages (from torch->pgmpy) (3.12.2)\n",
            "Requirement already satisfied: typing-extensions in /usr/local/lib/python3.10/dist-packages (from torch->pgmpy) (4.7.1)\n",
            "Requirement already satisfied: sympy in /usr/local/lib/python3.10/dist-packages (from torch->pgmpy) (1.12)\n",
            "Requirement already satisfied: jinja2 in /usr/local/lib/python3.10/dist-packages (from torch->pgmpy) (3.1.2)\n",
            "Requirement already satisfied: triton==2.0.0 in /usr/local/lib/python3.10/dist-packages (from torch->pgmpy) (2.0.0)\n",
            "Requirement already satisfied: cmake in /usr/local/lib/python3.10/dist-packages (from triton==2.0.0->torch->pgmpy) (3.27.1)\n",
            "Requirement already satisfied: lit in /usr/local/lib/python3.10/dist-packages (from triton==2.0.0->torch->pgmpy) (16.0.6)\n",
            "Requirement already satisfied: six in /usr/local/lib/python3.10/dist-packages (from patsy>=0.5.2->statsmodels->pgmpy) (1.16.0)\n",
            "Requirement already satisfied: MarkupSafe>=2.0 in /usr/local/lib/python3.10/dist-packages (from jinja2->torch->pgmpy) (2.1.3)\n",
            "Requirement already satisfied: mpmath>=0.19 in /usr/local/lib/python3.10/dist-packages (from sympy->torch->pgmpy) (1.3.0)\n"
          ]
        }
      ]
    },
    {
      "cell_type": "code",
      "source": [
        "# Define the Bayesian Network\n",
        "# MontyChoice variable depends on both the GuestChoice and Prize variables\n",
        "model = BayesianNetwork([('GuestChoice', 'MontyChoice'), ('Prize', 'MontyChoice')])\n",
        "\n",
        "# Define conditional probability distributions (CPDs)\n",
        "cpd_guest_choice = TabularCPD(variable='GuestChoice', variable_card=3, values=[[1/3], [1/3], [1/3]])\n",
        "cpd_prize = TabularCPD(variable='Prize', variable_card=3, values=[[1/3], [1/3], [1/3]])\n",
        "cpd_monty_choice = TabularCPD(variable='MontyChoice', variable_card=3,\n",
        "\n",
        "                              # The values parameter represents the conditional probabilities of 'MontyChoice' given the values of 'GuestChoice' and 'Prize'.\n",
        "                              # The evidence parameter specifies the parent variables ('GuestChoice' and 'Prize') that influence 'MontyChoice',\n",
        "                              # and evidence_card specifies the possible values for those parent variables.\n",
        "                              values=[[0, 0, 0, 0, 0, 1, 0, 1, 0],\n",
        "                                      [0.5, 0, 1, 0, 0.5, 0, 0, 0, 0.5],\n",
        "                                      [0.5, 1, 0, 1, 0.5, 0, 1, 0, 0.5]],\n",
        "\n",
        "                              #The evidence parameter specifies the parent variables('GuestChoice' and 'Prize') that influence\n",
        "                              #'MontyChoice', and evidence_card specifies the possible values for those parent variables.\n",
        "\n",
        "                              evidence=['GuestChoice', 'Prize'], evidence_card=[3, 3])\n",
        "\n",
        "# Add CPDs to the model\n",
        "model.add_cpds(cpd_guest_choice, cpd_prize, cpd_monty_choice)\n",
        "\n",
        "# Check model for validity of CPDs\n",
        "if model.check_model():\n",
        "    print(\"Model is valid.\")\n",
        "\n",
        "# Perform variable elimination\n",
        "inference = VariableElimination(model)\n",
        "\n",
        "# Query: P(Prize | GuestChoice=1, MontyChoice=2)\n",
        "result = inference.query(variables=['Prize'], evidence={'GuestChoice': 0, 'MontyChoice': 2})\n",
        "print(result)\n",
        "\n",
        "# Query: P(Prize GuestChoice=0, MontyChoice=1)\n",
        "# Query: P(Prize GuestChoice=2, MontyChoice=0)\n",
        "\n"
      ],
      "metadata": {
        "id": "WpMurB_jyLrg",
        "colab": {
          "base_uri": "https://localhost:8080/"
        },
        "outputId": "7afe69fc-177e-4aff-d8c4-b207f193650b"
      },
      "execution_count": null,
      "outputs": [
        {
          "output_type": "stream",
          "name": "stdout",
          "text": [
            "Model is valid.\n",
            "+----------+--------------+\n",
            "| Prize    |   phi(Prize) |\n",
            "+==========+==============+\n",
            "| Prize(0) |       0.3333 |\n",
            "+----------+--------------+\n",
            "| Prize(1) |       0.6667 |\n",
            "+----------+--------------+\n",
            "| Prize(2) |       0.0000 |\n",
            "+----------+--------------+\n"
          ]
        }
      ]
    },
    {
      "cell_type": "code",
      "source": [
        "# importing the libraries\n",
        "import networkx as nx\n",
        "import pylab as plt\n",
        "\n",
        "\n",
        "# Plotting the Bayesian Network.\n",
        "nx_graph = nx.DiGraph()\n",
        "nx_graph.add_edges_from(model.edges())\n",
        "\n",
        "nx.draw(nx_graph, with_labels=True)\n",
        "image_path = 'model.png'\n",
        "plt.savefig(image_path)\n",
        "plt.close()\n",
        "\n",
        "from IPython.display import Image, display\n",
        "display(Image(filename=image_path))\n"
      ],
      "metadata": {
        "id": "v9mKGQGi1lpg",
        "colab": {
          "base_uri": "https://localhost:8080/",
          "height": 497
        },
        "outputId": "c4aacc11-29f4-4f0e-f8f6-416492e85c81"
      },
      "execution_count": null,
      "outputs": [
        {
          "output_type": "display_data",
          "data": {
            "image/png": "[encoded data removed]",
            "text/plain": [
              "<IPython.core.display.Image object>"
            ]
          },
          "metadata": {}
        }
      ]
    },
    {
      "cell_type": "code",
      "source": [],
      "metadata": {
        "id": "KgD-fxKv3Eak"
      },
      "execution_count": null,
      "outputs": []
    }
  ]
}